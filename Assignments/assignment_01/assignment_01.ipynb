{
 "cells": [
  {
   "cell_type": "markdown",
   "metadata": {
    "pycharm": {
     "name": "#%% md\n"
    }
   },
   "source": [
    "# TPM034A Machine Learning for socio-technical systems \n",
    "## `Assignment 01: Discover, explore and visualise data`\n",
    "\n",
    "**Delft University of Technology**<br>\n",
    "**Q2 2022**<br>\n",
    "**Instructor:** Sander van Cranenburgh <br>\n",
    "**TAs:**  Francisco Garrido Valenzuela & Lucas Spierenburg <br>"
   ]
  },
  {
   "cell_type": "markdown",
   "metadata": {
    "pycharm": {
     "name": "#%% md\n"
    }
   },
   "source": [
    "### `Instructions`\n",
    "\n",
    "**Assignments aim to:**<br>\n",
    "* Examine your understanding of the key concepts and techniques.\n",
    "* Examine your the applied ML skills.\n",
    "\n",
    "**Assignments:**<br>\n",
    "* Are graded and must be submitted (see the submission instruction below). "
   ]
  },
  {
   "cell_type": "markdown",
   "metadata": {
    "pycharm": {
     "name": "#%% md\n"
    }
   },
   "source": [
    "### `Workspace set-up`\n",
    "**Option 1: Google Colab**<br>\n",
    "Uncomment the following cells code lines if you are running this notebook on Colab"
   ]
  },
  {
   "cell_type": "code",
   "execution_count": null,
   "metadata": {
    "pycharm": {
     "name": "#%%\n"
    }
   },
   "outputs": [],
   "source": [
    "#!git clone https://github.com/TPM34A/Q2_2022\n",
    "#!pip install -r Q2_2022/requirements_colab.txt\n",
    "#!mv \"/content/Q2_2022/Assignments/assignment_01/data\" /content/data"
   ]
  },
  {
   "cell_type": "markdown",
   "metadata": {
    "pycharm": {
     "name": "#%% md\n"
    }
   },
   "source": [
    "**Option 2: Local environment**<br>\n",
    "Uncomment the following cell if you are running this notebook on your local environment. This will install all dependencies on your Python version."
   ]
  },
  {
   "cell_type": "code",
   "execution_count": null,
   "metadata": {
    "pycharm": {
     "name": "#%%\n"
    }
   },
   "outputs": [],
   "source": [
    "#!pip install -r requirements.txt"
   ]
  },
  {
   "cell_type": "markdown",
   "metadata": {
    "pycharm": {
     "name": "#%% md\n"
    }
   },
   "source": [
    "## `Application: Liveability and affordable housing in Amsterdam` <br>\n",
    "\n",
    "### **Introduction**\n",
    "There is a widespread sense that affordable housing for the middle incomes households is under pressure. Especially for new entrants to the housing markets (i.e. those who do not yet own a house), affordable houses to buy in pleasant neighboorhoods are in short supply. Entrants to the housing market typically are people in their 20s and 30s.<br>\n",
    "\n",
    "The municipality of Amsterdam would like to tackle this issue. (see https://openresearch.amsterdam/en/page/77950/housing-crisis for articles on the subject). However, at present, the municipality of Amsterdam lacks insights on the extent to which access to affordable houses has deteriorated. <br>\n",
    "\n",
    "*Your are asked to assist the municipality of Amsterdam in investigating **whether** and **where** access to afforable houses has deteriorated.*<br>\n",
    "\n",
    "### **Data**\n",
    "\n",
    "You have access to four data sets:\n",
    "1. Real-estate prices in Amsterdam, at buurt level\n",
    "1. Liveability scores in the Netherlands, at buurt level\n",
    "1. Population statistics in the Netherlands, at buurt level\n",
    "1. Buurten boundaries in the Netherlands (GIS)\n",
    "\n",
    "### **Notes**\n",
    "- In the livability scores dataset the column *versie* show the different versions of the livability score, only use the 3rd version. Thus, you may filter this column to keep *Leefbaarometer 3.0*\tonly.\n",
    "- You may assume that the population statistics and geospatial data have not substantially changed across the years 2014 and 2020. Thus, you may assume both apply to 2014 and 2020.\n",
    "- For Population statistics (3rd dataset), [this document](data/buurt/metadata_buurt.csv) provides a brief explanation of the features.\n",
    "\n",
    "### **Tasks and grading**\n",
    "\n",
    "Your assigment is divided into 3 subtasks: (1) Data preparation, (2) Data exploration and (3) Assess the affordability of liveable neighborhoods. In total, 10 points can be earned in this assignment. The weight per subtask is shown below. \n",
    "\n",
    "1.  **Data preparation: construct data from multiple data sources.** [2 pnt]\n",
    "    1. Load the four dataset and show a preview of the dataset structure (some DataFrame rows).\n",
    "    1. Prepare the table data (non-GIS) to have two different DataFrames (for 2014 and 2020) that contains the following information:\n",
    "        - the liveability data for the year of interest, using the 3rd version of the Leefbaarometer\n",
    "        - population data \n",
    "        - Real-estate prices\n",
    "        - at the buurt level\n",
    "        - *Make sure to filter the data and remove NULL (NaN values) if required*\n",
    "    1. Add the geographic component of the buurten to your data.\n",
    "1. **Data exploration: discover and visualise data.** [4 pnt]\n",
    "    1.  Investigate the statistical distribution of the real-estate price levels and liveability in both years, using either a histogram of a CDF.\n",
    "    1. Visualise the correlation between real-estate prices and liveability in Amsterdam, at the buurt level, with a scatter plot for each year. Then, visualise spatially real-estate prices and liveability in Amsterdam for 2014 and 2020 (use the same color scale for years 2014 and 2020).\n",
    "1. **Assess the change in affordability of liveable neighbourhoods.** [3 pnt]\n",
    "    1. Explore how the change in liveability associates with a change in real-estate prices, using a scatter plot.\n",
    "    1. Compute the ratio of the liveability score over the real-estate price for both years, and show how the distribution of the ratio of liveability over real-estate price has changed between the two years.\n",
    "    1. Determine the 5 buurten in which the ratio of liveability over real-estate has deteriorated most.\n",
    "    1. Determine whether the number of buurten with price < 5k euro/m2 and a liveability ratio > 1/k euro has decreased in 2020, compared to 2014\n",
    "1. **Qualitative reflection on machine learning and generalisation: There are some buurts in Amsterdam for which real-estate price data were missing. Suppose the minicipality of Amsterdam asks you whether you can create a machine learning model that can predict real-estate prices from the liveability index. Do you think this is possible? Explain your answer (conceptually).** [1 pnt]\n",
    "\n",
    "### **Submission**\n",
    "- The deadline for this assignment is **Wed, 23 November 2022** \n",
    "- Use **Python 3.7 or above**\n",
    "- You have to submit your work in zip file with the ipynb (fully executed) in brightspace"
   ]
  },
  {
   "cell_type": "code",
   "execution_count": null,
   "metadata": {
    "pycharm": {
     "name": "#%%\n"
    }
   },
   "outputs": [],
   "source": [
    "import os\n",
    "from os import getcwd\n",
    "from pathlib import Path\n",
    "\n",
    "import numpy as np\n",
    "import pandas as pd\n",
    "import geopandas as gpd\n",
    "import matplotlib.pyplot as plt\n",
    "import seaborn as sns\n",
    "\n",
    "from statsmodels.api import OLS, add_constant, tools\n",
    "pd.set_option('display.max_columns', None)"
   ]
  },
  {
   "cell_type": "markdown",
   "metadata": {
    "pycharm": {
     "name": "#%% md\n"
    }
   },
   "source": [
    "### 1. Data preparation: construct data from multiple data sources [2 pnt]\n",
    "#### 1.1 Load the four dataset and show a preview of the dataset structure (some DataFrame rows)."
   ]
  },
  {
   "cell_type": "markdown",
   "source": [
    "##### 1.1.1 Load datasets"
   ],
   "metadata": {
    "collapsed": false,
    "pycharm": {
     "name": "#%% md\n"
    }
   }
  },
  {
   "cell_type": "code",
   "execution_count": null,
   "outputs": [],
   "source": [
    "# Set the data folder path\n",
    "data_folder = Path(f'data')"
   ],
   "metadata": {
    "collapsed": false,
    "pycharm": {
     "name": "#%%\n"
    }
   }
  },
  {
   "cell_type": "code",
   "execution_count": null,
   "outputs": [],
   "source": [
    "# Load three datasets as pandas dataframes\n",
    "buurt_price_data = pd.read_csv(data_folder/'real_estate_price/buurt_price.csv')\n",
    "buurt_liv_data = pd.read_csv(data_folder/'liveability/buurt_liveability.csv')\n",
    "buurt_pop_data = pd.read_csv(data_folder/'buurt/buurt_2020_pop.csv')\n",
    "\n",
    "# Load the shapefile as geopandas object\n",
    "buurt_shape = gpd.read_file(data_folder/'buurt/buurt 2020.shp')"
   ],
   "metadata": {
    "collapsed": false,
    "pycharm": {
     "name": "#%%\n"
    }
   }
  },
  {
   "cell_type": "code",
   "execution_count": null,
   "outputs": [],
   "source": [
    "buurt_price_data"
   ],
   "metadata": {
    "collapsed": false,
    "pycharm": {
     "name": "#%%\n"
    }
   }
  },
  {
   "cell_type": "code",
   "execution_count": null,
   "outputs": [],
   "source": [
    "buurt_liv_data"
   ],
   "metadata": {
    "collapsed": false,
    "pycharm": {
     "name": "#%%\n"
    }
   }
  },
  {
   "cell_type": "code",
   "execution_count": null,
   "outputs": [],
   "source": [
    "buurt_pop_data"
   ],
   "metadata": {
    "collapsed": false,
    "pycharm": {
     "name": "#%%\n"
    }
   }
  },
  {
   "cell_type": "code",
   "execution_count": null,
   "outputs": [],
   "source": [
    "buurt_shape"
   ],
   "metadata": {
    "collapsed": false,
    "pycharm": {
     "name": "#%%\n"
    }
   }
  },
  {
   "cell_type": "markdown",
   "source": [
    "#### 1.2 Prepare the table data (non-GIS) to have two different DataFrames (for 2014 and 2020) that contains the following information:\n",
    "- the liveability data for the year of interest, using the 3rd version of the Leefbaarometer\n",
    "- population data \n",
    "- Real-estate prices\n",
    "- at the buurt level\n",
    "- *Make sure to filter the data and remove NULL (NaN values) if required*"
   ],
   "metadata": {
    "collapsed": false,
    "pycharm": {
     "name": "#%% md\n"
    }
   }
  },
  {
   "cell_type": "markdown",
   "source": [
    "##### 1.2.1 Liveability DataFrame at buurt level"
   ],
   "metadata": {
    "collapsed": false,
    "pycharm": {
     "name": "#%% md\n"
    }
   }
  },
  {
   "cell_type": "code",
   "execution_count": null,
   "outputs": [],
   "source": [
    "# Select only the necessary columns\n",
    "buurt_liv_data = buurt_liv_data[['bu_code', 'versie', 'jaar', 'bu_naam', 'lbm']]\n",
    "buurt_liv_data"
   ],
   "metadata": {
    "collapsed": false,
    "pycharm": {
     "name": "#%%\n"
    }
   }
  },
  {
   "cell_type": "code",
   "execution_count": null,
   "outputs": [],
   "source": [
    "def clean_liv_data(liv_data, year):\n",
    "    \"\"\"Select the right version and year for the liveability data\"\"\"\n",
    "\n",
    "    # Extract subsets: only for the given year and Leefbaarometer 3.0 data\n",
    "    liv_data_extracted = liv_data.loc[(liv_data.versie ==  'Leefbaarometer 3.0') & (liv_data.jaar == year)]\n",
    "\n",
    "    # Return number of NaN values in the lbm column before removal\n",
    "    print('The number of NaN lbm values in the', year, 'liveability dataset before removal is', liv_data_extracted['lbm'].isna().sum())\n",
    "\n",
    "    # Remove rows where lbm is NaN\n",
    "    liv_data_extracted_cleaned = liv_data_extracted.dropna(subset = ['lbm'])\n",
    "\n",
    "    return liv_data_extracted_cleaned\n",
    "\n",
    "\n",
    "buurt_liv_data_2014 = clean_liv_data(buurt_liv_data, 2014)\n",
    "buurt_liv_data_2020 = clean_liv_data(buurt_liv_data, 2020)"
   ],
   "metadata": {
    "collapsed": false,
    "pycharm": {
     "name": "#%%\n"
    }
   }
  },
  {
   "cell_type": "code",
   "execution_count": null,
   "outputs": [],
   "source": [
    "buurt_liv_data_2014"
   ],
   "metadata": {
    "collapsed": false,
    "pycharm": {
     "name": "#%%\n"
    }
   }
  },
  {
   "cell_type": "code",
   "execution_count": null,
   "outputs": [],
   "source": [
    "buurt_liv_data_2020"
   ],
   "metadata": {
    "collapsed": false,
    "pycharm": {
     "name": "#%%\n"
    }
   }
  },
  {
   "cell_type": "markdown",
   "source": [
    "##### 1.2.2 Population DataFrame at buurt level"
   ],
   "metadata": {
    "collapsed": false,
    "pycharm": {
     "name": "#%% md\n"
    }
   }
  },
  {
   "cell_type": "code",
   "execution_count": null,
   "outputs": [],
   "source": [
    "# Rename column to enable the same column name as key in all DataFrames\n",
    "buurt_pop_data.rename(columns={\"BU_CODE\": \"bu_code\"}, inplace=True)"
   ],
   "metadata": {
    "collapsed": false,
    "pycharm": {
     "name": "#%%\n"
    }
   }
  },
  {
   "cell_type": "code",
   "execution_count": null,
   "outputs": [],
   "source": [
    "buurt_pop_data"
   ],
   "metadata": {
    "collapsed": false,
    "pycharm": {
     "name": "#%%\n"
    }
   }
  },
  {
   "cell_type": "markdown",
   "source": [
    "##### 1.2.3 Real estate price DataFrame at buurt level"
   ],
   "metadata": {
    "collapsed": false,
    "pycharm": {
     "name": "#%% md\n"
    }
   }
  },
  {
   "cell_type": "code",
   "execution_count": null,
   "outputs": [],
   "source": [
    "# Drop unnecessary real estate price column\n",
    "buurt_price_data_2014 = buurt_price_data.drop('price_2020', axis=1)\n",
    "buurt_price_data_2020 = buurt_price_data.drop('price_2014', axis=1)"
   ],
   "metadata": {
    "collapsed": false,
    "pycharm": {
     "name": "#%%\n"
    }
   }
  },
  {
   "cell_type": "code",
   "execution_count": null,
   "outputs": [],
   "source": [
    "buurt_price_data_2014"
   ],
   "metadata": {
    "collapsed": false,
    "pycharm": {
     "name": "#%%\n"
    }
   }
  },
  {
   "cell_type": "code",
   "execution_count": null,
   "outputs": [],
   "source": [
    "buurt_price_data_2020"
   ],
   "metadata": {
    "collapsed": false,
    "pycharm": {
     "name": "#%%\n"
    }
   }
  },
  {
   "cell_type": "markdown",
   "source": [
    "##### 1.2.4 Combining DataFrames"
   ],
   "metadata": {
    "collapsed": false,
    "pycharm": {
     "name": "#%% md\n"
    }
   }
  },
  {
   "cell_type": "code",
   "execution_count": null,
   "outputs": [],
   "source": [
    "# Import reduce to enable multi-DataFrame merge\n",
    "from functools import reduce"
   ],
   "metadata": {
    "collapsed": false,
    "pycharm": {
     "name": "#%%\n"
    }
   }
  },
  {
   "cell_type": "code",
   "execution_count": null,
   "outputs": [],
   "source": [
    "# Select the DataFrames to be merged for the 2014 DataFrame\n",
    "dfs = [buurt_price_data_2014, buurt_liv_data_2014, buurt_pop_data]\n",
    "\n",
    "buurt_data_2014 = reduce(lambda  left,right: pd.merge(left,right,on=['bu_code'],\n",
    "                                                      how='inner'), dfs)\n",
    "\n",
    "buurt_data_2014"
   ],
   "metadata": {
    "collapsed": false,
    "pycharm": {
     "name": "#%%\n"
    }
   }
  },
  {
   "cell_type": "code",
   "execution_count": null,
   "outputs": [],
   "source": [
    "# Select the DataFrames to be merged for the 2020 DataFrame\n",
    "dfs = [buurt_price_data_2020, buurt_liv_data_2020, buurt_pop_data]\n",
    "\n",
    "buurt_data_2020 = reduce(lambda  left,right: pd.merge(left,right,on=['bu_code'], how='inner'), dfs)\n",
    "\n",
    "buurt_data_2020"
   ],
   "metadata": {
    "collapsed": false,
    "pycharm": {
     "name": "#%%\n"
    }
   }
  },
  {
   "cell_type": "markdown",
   "source": [
    "#### 1.3 Add the geographic component of the buurten to your data"
   ],
   "metadata": {
    "collapsed": false,
    "pycharm": {
     "name": "#%% md\n"
    }
   }
  },
  {
   "cell_type": "markdown",
   "source": [
    "##### 1.3.1 Merge DataFrame with GeoDataFrame"
   ],
   "metadata": {
    "collapsed": false,
    "pycharm": {
     "name": "#%% md\n"
    }
   }
  },
  {
   "cell_type": "code",
   "execution_count": null,
   "outputs": [],
   "source": [
    "# Merge the DataFrame for both years with the Geopandas Shapefile\n",
    "buurt_df_2014 = buurt_shape.merge(buurt_data_2014, on=\"bu_code\")\n",
    "buurt_df_2020 = buurt_shape.merge(buurt_data_2020, on=\"bu_code\")"
   ],
   "metadata": {
    "collapsed": false,
    "pycharm": {
     "name": "#%%\n"
    }
   }
  },
  {
   "cell_type": "code",
   "execution_count": null,
   "outputs": [],
   "source": [
    "buurt_df_2014"
   ],
   "metadata": {
    "collapsed": false,
    "pycharm": {
     "name": "#%%\n"
    }
   }
  },
  {
   "cell_type": "code",
   "execution_count": null,
   "outputs": [],
   "source": [
    "buurt_df_2020"
   ],
   "metadata": {
    "collapsed": false,
    "pycharm": {
     "name": "#%%\n"
    }
   }
  },
  {
   "cell_type": "markdown",
   "source": [
    "### 2. Data exploration: discover and visualise data [4 pnt]\n",
    "#### 2.1 Investigate the statistical distribution of the real-estate price levels and liveability in both years"
   ],
   "metadata": {
    "collapsed": false,
    "pycharm": {
     "name": "#%% md\n"
    }
   }
  },
  {
   "cell_type": "markdown",
   "source": [
    "##### 2.1.1 Real estate price levels"
   ],
   "metadata": {
    "collapsed": false,
    "pycharm": {
     "name": "#%% md\n"
    }
   }
  },
  {
   "cell_type": "code",
   "execution_count": null,
   "outputs": [],
   "source": [
    "# Create histogram and empirical CDF for the real estate price levels of both 2014 and 2020\n",
    "fig, axes = plt.subplots(1, 4, figsize=(15, 5), sharex=False)\n",
    "\n",
    "sns.histplot(ax = axes[0],x = buurt_df_2014.price_2014)\n",
    "sns.ecdfplot(ax = axes[1],x = buurt_df_2014.price_2014)\n",
    "sns.histplot(ax = axes[2],x = buurt_df_2020.price_2020)\n",
    "sns.ecdfplot(ax = axes[3],x = buurt_df_2020.price_2020)\n",
    "\n",
    "axes[0].set_xlabel(\"real estate price 2014 (euro/m^2)\")\n",
    "axes[1].set_xlabel(\"real estate price 2014 (euro/m^2)\")\n",
    "axes[2].set_xlabel(\"real estate price 2020 (euro/m^2)\")\n",
    "axes[3].set_xlabel(\"real estate price 2020 (euro/m^2)\")\n",
    "\n",
    "axes[1].grid(True,linewidth = 0.5)\n",
    "axes[1].minorticks_on()\n",
    "axes[1].grid(which='minor', linestyle='dotted', linewidth='0.5', color='black')\n",
    "axes[3].grid(True,linewidth = 0.5)\n",
    "axes[3].minorticks_on()\n",
    "axes[3].grid(which='minor', linestyle='dotted', linewidth='0.5', color='black')"
   ],
   "metadata": {
    "collapsed": false,
    "pycharm": {
     "name": "#%%\n"
    }
   }
  },
  {
   "cell_type": "markdown",
   "source": [
    "##### 2.1.2 Liveability"
   ],
   "metadata": {
    "collapsed": false,
    "pycharm": {
     "name": "#%% md\n"
    }
   }
  },
  {
   "cell_type": "code",
   "execution_count": null,
   "outputs": [],
   "source": [
    "# Create histogram and empirical CDF for the liveability of both 2014 and 2020\n",
    "fig, axes = plt.subplots(1, 4, figsize=(15, 5), sharex=False)\n",
    "\n",
    "sns.histplot(ax = axes[0],x = buurt_df_2014.lbm)\n",
    "sns.ecdfplot(ax = axes[1],x = buurt_df_2014.lbm)\n",
    "sns.histplot(ax = axes[2],x = buurt_df_2020.lbm)\n",
    "sns.ecdfplot(ax = axes[3],x = buurt_df_2020.lbm)\n",
    "\n",
    "axes[0].set_xlabel(\"liveability 2014\")\n",
    "axes[1].set_xlabel(\"liveability 2014\")\n",
    "axes[2].set_xlabel(\"liveability 2020\")\n",
    "axes[3].set_xlabel(\"liveability 2020\")\n",
    "\n",
    "axes[1].grid(True,linewidth = 0.5)\n",
    "axes[1].minorticks_on()\n",
    "axes[1].grid(which='minor', linestyle='dotted', linewidth='0.5', color='black')\n",
    "axes[3].grid(True,linewidth = 0.5)\n",
    "axes[3].minorticks_on()\n",
    "axes[3].grid(which='minor', linestyle='dotted', linewidth='0.5', color='black')"
   ],
   "metadata": {
    "collapsed": false,
    "pycharm": {
     "name": "#%%\n"
    }
   }
  },
  {
   "cell_type": "markdown",
   "source": [
    "#### 2.2 Visualise the correlation between real-estate prices and liveability in Amsterdam, at the buurt level, with a scatter plot for each year. Then, visualise spatially real-estate prices and liveability in Amsterdam for 2014 and 2020 (use the same color scale for years 2014 and 2020)."
   ],
   "metadata": {
    "collapsed": false,
    "pycharm": {
     "name": "#%% md\n"
    }
   }
  },
  {
   "cell_type": "markdown",
   "source": [
    "##### 2.2.1 Scatterplots"
   ],
   "metadata": {
    "collapsed": false,
    "pycharm": {
     "name": "#%% md\n"
    }
   }
  },
  {
   "cell_type": "code",
   "execution_count": null,
   "outputs": [],
   "source": [
    "# Create scatterplots without and with regression lines for real estate prices and liveability\n",
    "fig, axes = plt.subplots(2, 2, figsize=(20, 8), sharex=True, sharey=True)\n",
    "fig.set_tight_layout(True)\n",
    "\n",
    "sns.scatterplot(ax = axes[0,0], x = buurt_df_2014.price_2014, y = buurt_df_2014.lbm)\n",
    "sns.scatterplot(ax = axes[0,1], x = buurt_df_2020.price_2020, y = buurt_df_2020.lbm)\n",
    "\n",
    "sns.regplot(ax= axes[1,0], x = buurt_df_2014.price_2014, y = buurt_df_2014.lbm)\n",
    "sns.regplot(ax= axes[1,1], x = buurt_df_2020.price_2020, y = buurt_df_2020.lbm)\n",
    "\n",
    "axes[0,0].set_xlabel(\"real estate price 2014 (euro/m^2)\")\n",
    "axes[0,1].set_xlabel(\"real estate price 2020 (euro/m^2)\")\n",
    "axes[1,0].set_xlabel(\"real estate price 2014 (euro/m^2)\")\n",
    "axes[1,1].set_xlabel(\"real estate price 2020 (euro/m^2)\")\n",
    "\n",
    "plt.show()"
   ],
   "metadata": {
    "collapsed": false,
    "pycharm": {
     "name": "#%%\n"
    }
   }
  },
  {
   "cell_type": "markdown",
   "source": [
    "##### 2.2.2 Maps"
   ],
   "metadata": {
    "collapsed": false,
    "pycharm": {
     "name": "#%% md\n"
    }
   }
  },
  {
   "cell_type": "code",
   "execution_count": null,
   "outputs": [],
   "source": [
    "# Create spatial maps showing the buurten of Amsterdam with real estate prices and liveability levels for both 2014 and 2020\n",
    "fig, axes = plt.subplots(2, 2, figsize=(25, 25), sharex=True, sharey=True)\n",
    "fig.set_tight_layout(True)\n",
    "\n",
    "buurt_df_2014.plot(ax=axes[0,0], column = 'price_2014', legend=True, vmin=1.5, vmax=10)\n",
    "buurt_df_2020.plot(ax=axes[0,1], column = 'price_2020', legend=True, vmin=1.5, vmax=10)\n",
    "\n",
    "buurt_df_2014.plot(ax=axes[1,0], column = 'lbm', legend=True)\n",
    "buurt_df_2020.plot(ax=axes[1,1], column = 'lbm', legend=True)\n",
    "\n",
    "axes[0,0].set_title(\"real estate price 2014 (euro/m^2)\")\n",
    "axes[0,0].axis('off')\n",
    "axes[0,1].set_title(\"real estate price 2020 (euro/m^2)\")\n",
    "axes[0,1].axis('off')\n",
    "axes[1,0].set_title(\"liveability 2014\")\n",
    "axes[1,0].axis('off')\n",
    "axes[1,1].set_title(\"liveability 2020\")\n",
    "axes[1,1].axis('off')\n",
    "\n",
    "plt.show()"
   ],
   "metadata": {
    "collapsed": false,
    "pycharm": {
     "name": "#%%\n"
    }
   }
  },
  {
   "cell_type": "markdown",
   "source": [
    "### 3. Assess the change in affordability of liveable neighbourhoods [3 pnt]\n",
    "\n",
    "#### 3.1 Explore how the change in liveability associates with a change in real-estate prices, using a scatter plot."
   ],
   "metadata": {
    "collapsed": false,
    "pycharm": {
     "name": "#%% md\n"
    }
   }
  },
  {
   "cell_type": "code",
   "execution_count": null,
   "outputs": [],
   "source": [
    "# Rename columns to make liveability score more easily comparable\n",
    "buurt_df_2014_renamed  = buurt_df_2014.rename(columns={\"lbm\": \"lbm_2014\"})\n",
    "buurt_df_2020_renamed = buurt_df_2020.rename(columns={\"lbm\": \"lbm_2020\"})"
   ],
   "metadata": {
    "collapsed": false,
    "pycharm": {
     "name": "#%%\n"
    }
   }
  },
  {
   "cell_type": "code",
   "execution_count": null,
   "outputs": [],
   "source": [
    "# Merge both DataFrames to create a more comprehensible one\n",
    "buurt_df = buurt_df_2014_renamed.merge(buurt_df_2020_renamed, on='bu_code')"
   ],
   "metadata": {
    "collapsed": false,
    "pycharm": {
     "name": "#%%\n"
    }
   }
  },
  {
   "cell_type": "code",
   "execution_count": null,
   "outputs": [],
   "source": [
    "buurt_df"
   ],
   "metadata": {
    "collapsed": false,
    "pycharm": {
     "name": "#%%\n"
    }
   }
  },
  {
   "cell_type": "code",
   "execution_count": null,
   "outputs": [],
   "source": [
    "# Calculate the change for both values\n",
    "buurt_df['lbm_change'] = buurt_df['lbm_2020'] - buurt_df['lbm_2014']\n",
    "buurt_df['price_change'] = buurt_df['price_2020'] - buurt_df['price_2014']"
   ],
   "metadata": {
    "collapsed": false,
    "pycharm": {
     "name": "#%%\n"
    }
   }
  },
  {
   "cell_type": "code",
   "execution_count": null,
   "outputs": [],
   "source": [
    "# Create scatterplot without and with regression line for real estate price change and liveability change\n",
    "fig, axes = plt.subplots(1, 2, figsize=(20, 8), sharex=True, sharey=True)\n",
    "fig.set_tight_layout(True)\n",
    "\n",
    "sns.scatterplot(ax = axes[0], x = buurt_df.price_change, y = buurt_df.lbm_change)\n",
    "sns.regplot(ax= axes[1], x = buurt_df.price_change, y = buurt_df.lbm_change)\n",
    "\n",
    "axes[0].set_xlabel(\"price change from 2014 to 2020\")\n",
    "axes[1].set_xlabel(\"price change from 2014 to 2020\")\n",
    "\n",
    "plt.show()"
   ],
   "metadata": {
    "collapsed": false,
    "pycharm": {
     "name": "#%%\n"
    }
   }
  },
  {
   "cell_type": "markdown",
   "source": [
    "#### 3.2 Compute the ratio of the liveability score over the real-estate price for both years, and show how the distribution of the ratio of liveability over real-estate price has changed between the two years."
   ],
   "metadata": {
    "collapsed": false,
    "pycharm": {
     "name": "#%% md\n"
    }
   }
  },
  {
   "cell_type": "code",
   "execution_count": null,
   "outputs": [],
   "source": [
    "# Calculate ratio for both 2014 and 2020\n",
    "buurt_df['ratio_2014'] = buurt_df['lbm_2014'] / buurt_df['price_2014']\n",
    "buurt_df['ratio_2020'] = buurt_df['lbm_2020'] / buurt_df['price_2020']"
   ],
   "metadata": {
    "collapsed": false,
    "pycharm": {
     "name": "#%%\n"
    }
   }
  },
  {
   "cell_type": "code",
   "execution_count": null,
   "outputs": [],
   "source": [
    "# Create histogram and empirical CDF for the real estate price levels of both 2014 and 2020\n",
    "fig, axes = plt.subplots(1, 4, figsize=(15, 5), sharex=False)\n",
    "\n",
    "sns.histplot(ax = axes[0],x = buurt_df.ratio_2014)\n",
    "sns.ecdfplot(ax = axes[1],x = buurt_df.ratio_2014)\n",
    "sns.histplot(ax = axes[2],x = buurt_df.ratio_2020)\n",
    "sns.ecdfplot(ax = axes[3],x = buurt_df.ratio_2020)\n",
    "\n",
    "axes[0].set_xlabel(\"ratio 2014\")\n",
    "axes[1].set_xlabel(\"ratio 2014\")\n",
    "axes[2].set_xlabel(\"ratio 2020\")\n",
    "axes[3].set_xlabel(\"ratio 2020\")\n",
    "\n",
    "axes[1].grid(True,linewidth = 0.5)\n",
    "axes[1].minorticks_on()\n",
    "axes[1].grid(which='minor', linestyle='dotted', linewidth='0.5', color='black')\n",
    "axes[3].grid(True,linewidth = 0.5)\n",
    "axes[3].minorticks_on()\n",
    "axes[3].grid(which='minor', linestyle='dotted', linewidth='0.5', color='black')"
   ],
   "metadata": {
    "collapsed": false,
    "pycharm": {
     "name": "#%%\n"
    }
   }
  },
  {
   "cell_type": "markdown",
   "source": [
    "#### 3.3 Determine the 5 buurten in which the ratio of liveability over real-estate has deteriorated most."
   ],
   "metadata": {
    "collapsed": false,
    "pycharm": {
     "name": "#%% md\n"
    }
   }
  },
  {
   "cell_type": "code",
   "execution_count": null,
   "outputs": [],
   "source": [
    "buurt_df['ratio_change'] = buurt_df['ratio_2020'] - buurt_df['ratio_2014']\n",
    "buurt_df.nsmallest(5, 'ratio_change').bu_naam_x_x"
   ],
   "metadata": {
    "collapsed": false,
    "pycharm": {
     "name": "#%%\n"
    }
   }
  },
  {
   "cell_type": "markdown",
   "source": [
    "#### 3.4 Determine whether the number of buurten with price < 5k euro/m2 and a liveability ratio > 1/k euro has decreased in 2020, compared to 2014"
   ],
   "metadata": {
    "collapsed": false,
    "pycharm": {
     "name": "#%% md\n"
    }
   }
  },
  {
   "cell_type": "code",
   "execution_count": null,
   "outputs": [],
   "source": [
    "print('Number in 2014:', len(buurt_df.loc[(buurt_df.price_2014 < 5) & (buurt_df.ratio_2014 > 1)]))\n",
    "print('Number in 2020:', len(buurt_df.loc[(buurt_df.price_2020 < 5) & (buurt_df.ratio_2020 > 1)]))"
   ],
   "metadata": {
    "collapsed": false,
    "pycharm": {
     "name": "#%%\n"
    }
   }
  },
  {
   "cell_type": "markdown",
   "source": [
    "So the number definitely has decreased significantly"
   ],
   "metadata": {
    "collapsed": false,
    "pycharm": {
     "name": "#%% md\n"
    }
   }
  },
  {
   "cell_type": "markdown",
   "source": [
    "### 4. Qualitative reflection on machine learning and generalisation [1 pnt]"
   ],
   "metadata": {
    "collapsed": false,
    "pycharm": {
     "name": "#%% md\n"
    }
   }
  },
  {
   "cell_type": "markdown",
   "source": [
    "I do think it is possible to predict real estate prices using the liveability index as input. As we can see in the scatterplots under 2.2.1 Scatterplots, the real estate prices do seem to correlate quitte well with the liveability index. In addition, there also seems to be a relation between the change in real estate price level and the change in liveability index. Furthermore, there are enough other buurten available as data input for a multiple regression model to be able to predict the missing buurten well enough for the predictions to be of additional value. Therefore, I conclude that this is possible."
   ],
   "metadata": {
    "collapsed": false,
    "pycharm": {
     "name": "#%% md\n"
    }
   }
  }
 ],
 "metadata": {
  "kernelspec": {
   "display_name": "Python 3.7.15 64-bit ('tpm34a')",
   "language": "python",
   "name": "python3"
  },
  "language_info": {
   "codemirror_mode": {
    "name": "ipython",
    "version": 3
   },
   "file_extension": ".py",
   "mimetype": "text/x-python",
   "name": "python",
   "nbconvert_exporter": "python",
   "pygments_lexer": "ipython3",
   "version": "3.7.15"
  },
  "orig_nbformat": 4,
  "vscode": {
   "interpreter": {
    "hash": "dc97a96f317a709ae2c462a7d0437fc605198aec43f9a7dadb54e6d81820938d"
   }
  }
 },
 "nbformat": 4,
 "nbformat_minor": 2
}